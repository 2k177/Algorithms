{
 "cells": [
  {
   "cell_type": "markdown",
   "metadata": {},
   "source": [
    "## 1. Remove Outermost Parentheses\n",
    "\n",
    "A valid parentheses string is either empty (\"\"), \"(\" + A + \")\", or A + B, where A and B are valid parentheses strings, and + represents string concatenation.  For example, \"\", \"()\", \"(())()\", and \"(()(()))\" are all valid parentheses strings.\n",
    "\n",
    "A valid parentheses string S is primitive if it is nonempty, and there does not exist a way to split it into S = A+B, with A and B nonempty valid parentheses strings.\n",
    "\n",
    "Given a valid parentheses string S, consider its primitive decomposition: S = P_1 + P_2 + ... + P_k, where P_i are primitive valid parentheses strings.\n",
    "\n",
    "Return S after removing the outermost parentheses of every primitive string in the primitive decomposition of S.\n",
    "\n",
    " \n",
    "\n",
    "Example 1:\n",
    "\n",
    "Input: \"(()())(())\"\n",
    "Output: \"()()()\"\n",
    "Explanation: \n",
    "The input string is \"(()())(())\", with primitive decomposition \"(()())\" + \"(())\".\n",
    "After removing outer parentheses of each part, this is \"()()\" + \"()\" = \"()()()\"."
   ]
  },
  {
   "cell_type": "code",
   "execution_count": 42,
   "metadata": {},
   "outputs": [
    {
     "name": "stdout",
     "output_type": "stream",
     "text": [
      "()()()()(())\n"
     ]
    }
   ],
   "source": [
    "stack = []\n",
    "str2 = \"(()())(())(()(()))\"\n",
    "str1 = ''\n",
    "count = 0\n",
    "for x in range(len(str2)):\n",
    "    if str2[x] == '(':\n",
    "        stack.append(str2[x])\n",
    "        count += 1\n",
    "    elif ')' == str2[x]:\n",
    "        stack.pop()\n",
    "        if len(stack)==0:\n",
    "            str1 =str1 + (str2[x+1-2*count+1:x])\n",
    "            count = 0\n",
    "print(str1)"
   ]
  },
  {
   "cell_type": "markdown",
   "metadata": {},
   "source": [
    "First try seems to a bit complex, lets enhance further.."
   ]
  },
  {
   "cell_type": "code",
   "execution_count": 44,
   "metadata": {},
   "outputs": [
    {
     "name": "stdout",
     "output_type": "stream",
     "text": [
      ")()()()()()(\n"
     ]
    }
   ],
   "source": [
    "S = \"()()()()(((((()))))\"\n",
    "res = ''\n",
    "stack = []\n",
    "\n",
    "\n",
    "store = ''\n",
    "\n",
    "for x in S:\n",
    "    if x == '(':\n",
    "        stack.append(x)\n",
    "    else:\n",
    "        stack.pop()\n",
    "    store += x\n",
    "\n",
    "    if not stack:\n",
    "        res += store[1:-1]\n",
    "        basket = ''\n",
    "\n",
    "print(res)"
   ]
  },
  {
   "cell_type": "markdown",
   "metadata": {},
   "source": [
    "## 2. Build an Array With Stack Operations\n",
    "Given an array target and an integer n. In each iteration, you will read a number from  list = {1,2,3..., n}.\n",
    "\n",
    "Build the target array using the following operations:\n",
    "\n",
    "Push: Read a new element from the beginning list, and push it in the array.\n",
    "Pop: delete the last element of the array.\n",
    "If the target array is already built, stop reading more elements.\n",
    "You are guaranteed that the target array is strictly increasing, only containing numbers between 1 to n inclusive.\n",
    "\n",
    "Return the operations to build the target array.\n",
    "\n",
    "You are guaranteed that the answer is unique.\n",
    "\n",
    " \n",
    "\n",
    "Example 1:\n",
    "\n",
    "Input: target = [1,3], n = 3\n",
    "Output: [\"Push\",\"Push\",\"Pop\",\"Push\"]\n",
    "Explanation: \n",
    "Read number 1 and automatically push in the array -> [1]\n",
    "Read number 2 and automatically push in the array then Pop it -> [1]\n",
    "Read number 3 and automatically push in the array -> [1,3]"
   ]
  },
  {
   "cell_type": "code",
   "execution_count": 62,
   "metadata": {},
   "outputs": [
    {
     "name": "stdout",
     "output_type": "stream",
     "text": [
      "1\n",
      "push\n",
      "2\n",
      "push\n",
      "[1, 2]\n",
      "['push', 'push']\n"
     ]
    }
   ],
   "source": [
    "# n =3\n",
    "# target = [1,3]\n",
    "# target = [1,2,3]\n",
    "# n = 3\n",
    "target = [1,2]\n",
    "n = 4\n",
    "# target = [2,3,4]\n",
    "# n = 4\n",
    "stack = []\n",
    "operation = []\n",
    "for i in range(n):\n",
    "    stack.append(i+1)\n",
    "    operation.append(\"push\")\n",
    "    if target == stack:\n",
    "        break \n",
    "    if i+1 not in target:\n",
    "        stack.pop()\n",
    "        operation.append(\"pop\")\n",
    "print(stack)\n",
    "print(operation)"
   ]
  },
  {
   "cell_type": "markdown",
   "metadata": {},
   "source": [
    "- Runtime: 24 ms\n",
    "- Memory Usage: 12.6 MB"
   ]
  },
  {
   "cell_type": "markdown",
   "metadata": {},
   "source": [
    "## 3. Remove All Adjacent Duplicates In String\n",
    "Given a string S of lowercase letters, a duplicate removal consists of choosing two adjacent and equal letters, and removing them.\n",
    "\n",
    "We repeatedly make duplicate removals on S until we no longer can.\n",
    "\n",
    "Return the final string after all such duplicate removals have been made.  It is guaranteed the answer is unique.\n",
    "\n",
    " \n",
    "\n",
    "Example 1:\n",
    "\n",
    "Input: \"abbaca\"\n",
    "Output: \"ca\"\n",
    "Explanation: \n",
    "For example, in \"abbaca\" we could remove \"bb\" since the letters are adjacent and equal, and this is the only possible move.  The result of this move is that the string is \"aaca\", of which only \"aa\" is possible, so the final string is \"ca\"."
   ]
  },
  {
   "cell_type": "code",
   "execution_count": 90,
   "metadata": {},
   "outputs": [
    {
     "name": "stdout",
     "output_type": "stream",
     "text": [
      "['a', 'b', 'a', 'c', 'a']\n",
      "abaca\n"
     ]
    }
   ],
   "source": [
    "S = \"abbbaca\"\n",
    "stack = []\n",
    "str= ''\n",
    "for x in range(len(S)):\n",
    "    if len(stack)!=0 and stack[-1]== S[x]:\n",
    "        stack.pop()\n",
    "    else:\n",
    "        stack.append(S[x])\n",
    "print(stack)\n",
    "print(str.join(stack))"
   ]
  },
  {
   "cell_type": "markdown",
   "metadata": {},
   "source": [
    "- Runtime: 88 ms\n",
    "- Memory Usage: 13.7 MB"
   ]
  },
  {
   "cell_type": "markdown",
   "metadata": {},
   "source": [
    "Runtime seems to litrally high :(.. lets try some more enhancement\n",
    "- Lets remove len() and range() and directly access elements\n"
   ]
  },
  {
   "cell_type": "code",
   "execution_count": 91,
   "metadata": {},
   "outputs": [
    {
     "name": "stdout",
     "output_type": "stream",
     "text": [
      "['a', 'b', 'a', 'c', 'a']\n",
      "abaca\n"
     ]
    }
   ],
   "source": [
    "S = \"abbbaca\"\n",
    "stack = []\n",
    "str= ''\n",
    "for x in S:\n",
    "    if len(stack)!=0 and stack[-1]== x:\n",
    "        stack.pop()\n",
    "    else:\n",
    "        stack.append(x)\n",
    "print(stack)\n",
    "print(str.join(stack))"
   ]
  },
  {
   "cell_type": "markdown",
   "metadata": {},
   "source": [
    "- Runtime: 48 ms\n",
    "- Memory Usage: 13.2 MB"
   ]
  },
  {
   "cell_type": "markdown",
   "metadata": {},
   "source": [
    "##  4. Implement Stack using Queues\n",
    "\n",
    "Implement the following operations of a stack using queues.\n",
    "\n",
    "push(x) -- Push element x onto stack.\n",
    "pop() -- Removes the element on top of the stack.\n",
    "top() -- Get the top element.\n",
    "empty() -- Return whether the stack is empty.\n",
    "Example:\n",
    "\n",
    "MyStack stack = new MyStack();\n",
    "\n",
    "stack.push(1);\n",
    "stack.push(2);  \n",
    "stack.top();   // returns 2\n",
    "stack.pop();   // returns 2\n",
    "stack.empty(); // returns false\n",
    "Notes:\n",
    "\n",
    "You must use only standard operations of a queue -- which means only push to back, peek/pop from front, size, and is empty operations are valid.\n",
    "Depending on your language, queue may not be supported natively. You may simulate a queue by using a list or deque (double-ended queue), as long as you use only standard operations of a queue.\n",
    "You may assume that all operations are valid (for example, no pop or top operations will be called on an empty stack)."
   ]
  },
  {
   "cell_type": "code",
   "execution_count": 100,
   "metadata": {},
   "outputs": [],
   "source": [
    "class MyStack(object):\n",
    "\n",
    "    def __init__(self):\n",
    "        \"\"\"\n",
    "        Initialize your data structure here.\n",
    "        \"\"\"\n",
    "        self.stack = []\n",
    "        \n",
    "\n",
    "    def push(self, x):\n",
    "        \"\"\"\n",
    "        Push element x onto stack.\n",
    "        :type x: int\n",
    "        :rtype: None\n",
    "        \"\"\"\n",
    "        return self.stack.append(x)\n",
    "        \n",
    "\n",
    "    def pop(self):\n",
    "        \"\"\"\n",
    "        Removes the element on top of the stack and returns that element.\n",
    "        :rtype: int\n",
    "        \"\"\"\n",
    "        return self.stack.pop()\n",
    "        \n",
    "\n",
    "    def top(self):\n",
    "        \"\"\"\n",
    "        Get the top element.\n",
    "        :rtype: int\n",
    "        \"\"\"\n",
    "        if self.stack:\n",
    "            return self.stack[-1]\n",
    "        \n",
    "\n",
    "    def empty(self):\n",
    "        \"\"\"\n",
    "        Returns whether the stack is empty.\n",
    "        :rtype: bool\n",
    "        \"\"\"\n",
    "        return len(self.stack)==0\n",
    "\n",
    "\n",
    "# Your MyStack object will be instantiated and called as such:\n",
    "obj = MyStack()\n",
    "obj.push(1)\n",
    "obj.push(3)\n",
    "obj.push(2)\n",
    "param_2 = obj.pop()\n",
    "param_3 = obj.top()\n",
    "param_4 = obj.empty()"
   ]
  },
  {
   "cell_type": "code",
   "execution_count": 101,
   "metadata": {},
   "outputs": [
    {
     "name": "stdout",
     "output_type": "stream",
     "text": [
      "2\n",
      "3\n",
      "False\n"
     ]
    }
   ],
   "source": [
    "print(param_2)\n",
    "print(param_3)\n",
    "print(param_4)"
   ]
  },
  {
   "cell_type": "markdown",
   "metadata": {},
   "source": [
    "- Runtime: 16 ms\n",
    "- Memory Usage: 12.7 MB"
   ]
  },
  {
   "cell_type": "markdown",
   "metadata": {},
   "source": [
    " ## 5. Implement Queue using Stacks\n",
    " Implement the following operations of a queue using stacks.\n",
    "\n",
    "push(x) -- Push element x to the back of queue.\n",
    "pop() -- Removes the element from in front of queue.\n",
    "peek() -- Get the front element.\n",
    "empty() -- Return whether the queue is empty.\n",
    "Example:\n",
    "\n",
    "MyQueue queue = new MyQueue();\n",
    "\n",
    "queue.push(1);\n",
    "queue.push(2);  \n",
    "queue.peek();  // returns 1\n",
    "queue.pop();   // returns 1\n",
    "queue.empty(); // returns false\n",
    "Notes:\n",
    "\n",
    "You must use only standard operations of a stack -- which means only push to top, peek/pop from top, size, and is empty operations are valid.\n",
    "Depending on your language, stack may not be supported natively. You may simulate a stack by using a list or deque (double-ended queue), as long as you use only standard operations of a stack.\n",
    "You may assume that all operations are valid (for example, no pop or peek operations will be called on an empty queue)."
   ]
  },
  {
   "cell_type": "code",
   "execution_count": 103,
   "metadata": {},
   "outputs": [
    {
     "name": "stdout",
     "output_type": "stream",
     "text": [
      "1\n",
      "6\n",
      "False\n"
     ]
    }
   ],
   "source": [
    "from collections import deque\n",
    "\n",
    "class MyQueue(object):\n",
    "\n",
    "    def __init__(self):\n",
    "        \"\"\"\n",
    "        Initialize your data structure here.\n",
    "        \"\"\"\n",
    "        self.stack = deque()\n",
    "        \n",
    "\n",
    "    def push(self, x):\n",
    "        \"\"\"\n",
    "        Push element x to the back of queue.\n",
    "        :type x: int\n",
    "        :rtype: None\n",
    "        \"\"\"\n",
    "        return self.stack.appendleft(x)\n",
    "        \n",
    "\n",
    "    def pop(self):\n",
    "        \"\"\"\n",
    "        Removes the element from in front of queue and returns that element.\n",
    "        :rtype: int\n",
    "        \"\"\"\n",
    "        if self.stack:\n",
    "            return self.stack.pop()\n",
    "        \n",
    "\n",
    "    def peek(self):\n",
    "        \"\"\"\n",
    "        Get the front element.\n",
    "        :rtype: int\n",
    "        \"\"\"\n",
    "        return self.stack[-1]\n",
    "\n",
    "    def empty(self):\n",
    "        \"\"\"\n",
    "        Returns whether the queue is empty.\n",
    "        :rtype: bool\n",
    "        \"\"\"\n",
    "        return len(self.stack) == 0\n",
    "        \n",
    "\n",
    "\n",
    "# Your MyQueue object will be instantiated and called as such:\n",
    "obj = MyQueue()\n",
    "obj.push(1)\n",
    "obj.push(6)\n",
    "obj.push(7)\n",
    "obj.push(18)\n",
    "param_2 = obj.pop()\n",
    "param_3 = obj.peek()\n",
    "param_4 = obj.empty()\n",
    "print(param_2)\n",
    "print(param_3)\n",
    "print(param_4)"
   ]
  },
  {
   "cell_type": "markdown",
   "metadata": {},
   "source": [
    "- Runtime: 20 ms\n",
    "- Memory Usage: 12.7 MB"
   ]
  },
  {
   "cell_type": "markdown",
   "metadata": {},
   "source": [
    "Lets try the same same using del keword!!"
   ]
  },
  {
   "cell_type": "code",
   "execution_count": 108,
   "metadata": {},
   "outputs": [
    {
     "name": "stdout",
     "output_type": "stream",
     "text": [
      "1\n",
      "6\n",
      "False\n"
     ]
    }
   ],
   "source": [
    "class MyQueue(object):\n",
    "\n",
    "    def __init__(self):\n",
    "        \"\"\"\n",
    "        Initialize your data structure here.\n",
    "        \"\"\"\n",
    "        self.stack = []\n",
    "        \n",
    "\n",
    "    def push(self, x):\n",
    "        \"\"\"\n",
    "        Push element x to the back of queue.\n",
    "        :type x: int\n",
    "        :rtype: None\n",
    "        \"\"\"\n",
    "        return self.stack.append(x)\n",
    "        \n",
    "\n",
    "    def pop(self):\n",
    "        \"\"\"\n",
    "        Removes the element from in front of queue and returns that element.\n",
    "        :rtype: int\n",
    "        \"\"\"\n",
    "        if self.stack:\n",
    "            popValue = self.stack[0]\n",
    "            del self.stack[0]\n",
    "            return popValue\n",
    "        \n",
    "\n",
    "    def peek(self):\n",
    "        \"\"\"\n",
    "        Get the front element.\n",
    "        :rtype: int\n",
    "        \"\"\"\n",
    "        return self.stack[0]\n",
    "\n",
    "    def empty(self):\n",
    "        \"\"\"\n",
    "        Returns whether the queue is empty.\n",
    "        :rtype: bool\n",
    "        \"\"\"\n",
    "        return len(self.stack) == 0\n",
    "        \n",
    "\n",
    "\n",
    "# Your MyQueue object will be instantiated and called as such:\n",
    "obj = MyQueue()\n",
    "obj.push(1)\n",
    "obj.push(6)\n",
    "obj.push(7)\n",
    "obj.push(18)\n",
    "param_2 = obj.pop()\n",
    "param_3 = obj.peek()\n",
    "param_4 = obj.empty()\n",
    "print(param_2)\n",
    "print(param_3)\n",
    "print(param_4)"
   ]
  },
  {
   "cell_type": "markdown",
   "metadata": {},
   "source": [
    "- Runtime: 20 ms\n",
    "- Memory Usage: 12.9 MB"
   ]
  }
 ],
 "metadata": {
  "kernelspec": {
   "display_name": "Python 3",
   "language": "python",
   "name": "python3"
  },
  "language_info": {
   "codemirror_mode": {
    "name": "ipython",
    "version": 3
   },
   "file_extension": ".py",
   "mimetype": "text/x-python",
   "name": "python",
   "nbconvert_exporter": "python",
   "pygments_lexer": "ipython3",
   "version": "3.7.6"
  }
 },
 "nbformat": 4,
 "nbformat_minor": 4
}
