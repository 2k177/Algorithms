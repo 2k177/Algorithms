{
 "cells": [
  {
   "cell_type": "markdown",
   "metadata": {},
   "source": [
    "##  Merge Sorted Array\n",
    "Given two sorted integer arrays nums1 and nums2, merge nums2 into nums1 as one sorted array.\n",
    "\n",
    "Note:\n",
    "\n",
    "The number of elements initialized in nums1 and nums2 are m and n respectively.\n",
    "You may assume that nums1 has enough space (size that is greater or equal to m + n) to hold additional elements from nums2.\n",
    "Example:\n",
    "\n",
    "Input:\n",
    "nums1 = [1,2,3,0,0,0], m = 3\n",
    "nums2 = [2,5,6],       n = 3\n",
    "\n",
    "Output: [1,2,2,3,5,6]"
   ]
  },
  {
   "cell_type": "code",
   "execution_count": 23,
   "metadata": {},
   "outputs": [
    {
     "name": "stdout",
     "output_type": "stream",
     "text": [
      "[1, 2, 2, 3, 5, 6]\n"
     ]
    }
   ],
   "source": [
    "nums1 = [1,2,3,0,0,0]\n",
    "m = 3\n",
    "nums2 = [2,5,6]\n",
    "n = 3\n",
    "for x in range(m , m+n):\n",
    "    nums1[x] = nums2[x-m]\n",
    "nums1.sort()\n",
    "print(nums1)"
   ]
  },
  {
   "cell_type": "markdown",
   "metadata": {},
   "source": [
    "- Runtime: 24 ms\n",
    "- Memory Usage: 12.9 MB"
   ]
  },
  {
   "cell_type": "markdown",
   "metadata": {},
   "source": [
    "## Rotate Array\n",
    "Given an array, rotate the array to the right by k steps, where k is non-negative.\n",
    "\n",
    "Follow up:\n",
    "\n",
    "Try to come up as many solutions as you can, there are at least 3 different ways to solve this problem.\n",
    "Could you do it in-place with O(1) extra space?\n",
    " \n",
    "\n",
    "Example 1:\n",
    "\n",
    "Input: nums = [1,2,3,4,5,6,7], k = 3\n",
    "Output: [5,6,7,1,2,3,4]\n",
    "Explanation:\n",
    "rotate 1 steps to the right: [7,1,2,3,4,5,6]\n",
    "rotate 2 steps to the right: [6,7,1,2,3,4,5]\n",
    "rotate 3 steps to the right: [5,6,7,1,2,3,4]"
   ]
  },
  {
   "cell_type": "code",
   "execution_count": 60,
   "metadata": {},
   "outputs": [
    {
     "name": "stdout",
     "output_type": "stream",
     "text": [
      "[4, 5, 6, 2, 3]\n"
     ]
    }
   ],
   "source": [
    "nums = [2,3,4,5,6]\n",
    "k = 3\n",
    "while k:\n",
    "    nums.insert(0,nums[-1])\n",
    "    nums.pop()\n",
    "    k-=1\n",
    "print(nums)"
   ]
  },
  {
   "cell_type": "code",
   "execution_count": 59,
   "metadata": {},
   "outputs": [
    {
     "name": "stdout",
     "output_type": "stream",
     "text": [
      "[3, 4, 5, 6, 2]\n"
     ]
    }
   ],
   "source": [
    "nums = [2,3,4,5,6]\n",
    "k = 4\n",
    "k%=len(nums)\n",
    "nums[:] = nums[-k:]+nums[:-k]\n",
    "print(nums)"
   ]
  },
  {
   "cell_type": "markdown",
   "metadata": {},
   "source": [
    "## Find Pivot Index\n",
    "Given an array of integers nums, write a method that returns the \"pivot\" index of this array.\n",
    "\n",
    "We define the pivot index as the index where the sum of all the numbers to the left of the index is equal to the sum of all the numbers to the right of the index.\n",
    "\n",
    "If no such index exists, we should return -1. If there are multiple pivot indexes, you should return the left-most pivot index.\n",
    "\n",
    "Example 1:\n",
    "\n",
    "Input: nums = [1,7,3,6,5,6]\n",
    "Output: 3\n",
    "Explanation:\n",
    "The sum of the numbers to the left of index 3 (nums[3] = 6) is equal to the sum of numbers to the right of index 3.\n",
    "Also, 3 is the first index where this occurs."
   ]
  },
  {
   "cell_type": "code",
   "execution_count": 52,
   "metadata": {},
   "outputs": [
    {
     "name": "stdout",
     "output_type": "stream",
     "text": [
      "yes:  6\n"
     ]
    }
   ],
   "source": [
    "nums = [1,7,3,6,5,6] \n",
    "for x in range(len(nums)):\n",
    "    if sum(nums[:x]) == sum(nums[x:])-nums[x]:\n",
    "        print(\"yes: \",nums[x])\n",
    "        break"
   ]
  },
  {
   "cell_type": "code",
   "execution_count": 58,
   "metadata": {},
   "outputs": [
    {
     "name": "stdout",
     "output_type": "stream",
     "text": [
      "1  :  27 : 0\n",
      "7  :  20 : 1\n",
      "3  :  17 : 8\n",
      "6  :  11 : 11\n",
      "Pivot:  3\n"
     ]
    }
   ],
   "source": [
    "nums = [1,7,3,6,5,6] \n",
    "piv = -1\n",
    "sum_after_i= sum(nums)\n",
    "sum_before_i = 0\n",
    "if len(nums) not in [0,1]:\n",
    "    for i in range(len(nums)):\n",
    "        \n",
    "        sum_after_i -=nums[i] #sum of numbers after i'th iteration\n",
    "        print(nums[i],\" : \",sum_after_i,\":\",sum_before_i)\n",
    "        if sum_before_i == sum_after_i:\n",
    "            piv = i\n",
    "            break \n",
    "        sum_before_i += nums[i] ##sum of numbers till i'th iteration(for i+1 )\n",
    "    print(\"Pivot: \",piv) \n",
    "else:print(\"Pivot: \",piv)"
   ]
  }
 ],
 "metadata": {
  "kernelspec": {
   "display_name": "Python 3",
   "language": "python",
   "name": "python3"
  },
  "language_info": {
   "codemirror_mode": {
    "name": "ipython",
    "version": 3
   },
   "file_extension": ".py",
   "mimetype": "text/x-python",
   "name": "python",
   "nbconvert_exporter": "python",
   "pygments_lexer": "ipython3",
   "version": "3.7.6"
  }
 },
 "nbformat": 4,
 "nbformat_minor": 4
}
