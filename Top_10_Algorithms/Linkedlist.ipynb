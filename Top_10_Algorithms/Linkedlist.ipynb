{
  "nbformat": 4,
  "nbformat_minor": 0,
  "metadata": {
    "colab": {
      "name": "Copy of Linkedlist.ipynb",
      "provenance": [],
      "collapsed_sections": [],
      "authorship_tag": "ABX9TyNlGtpzzQ6kOkdQGe8dBu/U",
      "include_colab_link": true
    },
    "kernelspec": {
      "name": "python3",
      "display_name": "Python 3"
    },
    "language_info": {
      "name": "python"
    }
  },
  "cells": [
    {
      "cell_type": "markdown",
      "metadata": {
        "id": "view-in-github",
        "colab_type": "text"
      },
      "source": [
        "<a href=\"https://colab.research.google.com/github/2k177/DataStructure_Python/blob/master/Top_10_Algorithms/Linkedlist.ipynb\" target=\"_parent\"><img src=\"https://colab.research.google.com/assets/colab-badge.svg\" alt=\"Open In Colab\"/></a>"
      ]
    },
    {
      "cell_type": "markdown",
      "source": [
        "## Top 10 Linkedlist algorithms \n",
        "Sorce : https://www.geeksforgeeks.org/top-10-algorithms-in-interview-questions/#algo2 "
      ],
      "metadata": {
        "id": "Eu8BUX45loWK"
      }
    },
    {
      "cell_type": "markdown",
      "source": [
        "### Insertion of a node in Linked List \n",
        "Given a linked list which is sorted, how will you insert in sorted way ?"
      ],
      "metadata": {
        "id": "pAqj1R03mBrY"
      }
    },
    {
      "cell_type": "code",
      "source": [
        "class Node:\n",
        "  def __init__(self, data):\n",
        "    self.data = data\n",
        "    self.next = None\n",
        "class LinkedList:\n",
        "  def __init__(self):\n",
        "    self.head = None\n",
        "  def sortedInsert(self, new_node):\n",
        "    # if the list is empty\n",
        "    if self.head is None:\n",
        "      new_node.next = self.head\n",
        "      self.head = new_node\n",
        "    elif self.head.data >= new_node.data:\n",
        "      new_node.next = self.head\n",
        "      self.head = new_node\n",
        "    else:\n",
        "      # Locate the node before the point of insertion\n",
        "      current = self.head\n",
        "      while(current.next is not None and\n",
        "                 current.next.data < new_node.data):\n",
        "                current = current.next\n",
        "      new_node.next = current.next\n",
        "      current.next = new_node\n",
        "  def printList(self):\n",
        "        temp = self.head\n",
        "        while(temp):\n",
        "            print(temp.data)\n",
        "            temp = temp.next\n",
        "llist = LinkedList()\n",
        "new_node = Node(5)\n",
        "llist.sortedInsert(new_node)\n",
        "new_node = Node(10)\n",
        "llist.sortedInsert(new_node)\n",
        "new_node = Node(7)\n",
        "llist.sortedInsert(new_node)\n",
        "new_node = Node(3)\n",
        "llist.sortedInsert(new_node)\n",
        "new_node = Node(1)\n",
        "llist.sortedInsert(new_node)\n",
        "new_node = Node(9)\n",
        "llist.sortedInsert(new_node)\n",
        "new_node = Node(0)\n",
        "llist.sortedInsert(new_node)\n",
        "print (\"Create Linked List\")\n",
        "llist.printList()"
      ],
      "metadata": {
        "colab": {
          "base_uri": "https://localhost:8080/"
        },
        "id": "r6J3R5HZmR-k",
        "outputId": "b00ea4e0-6657-4f04-9812-a4a65b2dd90d"
      },
      "execution_count": null,
      "outputs": [
        {
          "output_type": "stream",
          "name": "stdout",
          "text": [
            "Create Linked List\n",
            "0\n",
            "1\n",
            "3\n",
            "5\n",
            "7\n",
            "9\n",
            "10\n"
          ]
        }
      ]
    },
    {
      "cell_type": "code",
      "source": [
        "class Node:\n",
        "  def __init__(self, data):\n",
        "    self.data = data\n",
        "    self.next = None\n",
        "\n",
        "def compareList(list1, list2):\n",
        "  while (list1.next and list2.next) and (list1.data == list2.data):\n",
        "    list1 = list1.next\n",
        "    list2 = list2.next\n",
        "  if(list1 and list2):\n",
        "      return 1 if list1.data > list2.data else -1\n",
        "\n",
        "  # If either of the two lists has reached end\n",
        "  if (list1 and not list2):\n",
        "      return 1\n",
        "\n",
        "  if (list2 and not list1):\n",
        "      return -1\n",
        "  return 0\n",
        "list1 = Node('D')\n",
        "list1.next = Node('e')\n",
        "list1.next.next = Node('e')\n",
        "list1.next.next.next = Node('p')\n",
        "list1.next.next.next.next = Node('s')\n",
        "list1.next.next.next.next.next = Node('b')\n",
        " \n",
        "list2 = Node('d')\n",
        "list2.next = Node('e')\n",
        "list2.next.next = Node('e')\n",
        "list2.next.next.next = Node('p')\n",
        "list2.next.next.next.next = Node('s')\n",
        "list2.next.next.next.next.next = Node('a') \n",
        "print (compareList(list1, list2))"
      ],
      "metadata": {
        "id": "Y_wEFWtE4asj",
        "outputId": "3ec294e1-91a6-44e7-a568-5b9e10514111",
        "colab": {
          "base_uri": "https://localhost:8080/"
        }
      },
      "execution_count": null,
      "outputs": [
        {
          "output_type": "stream",
          "name": "stdout",
          "text": [
            "-1\n"
          ]
        }
      ]
    },
    {
      "cell_type": "code",
      "source": [
        "# Add 2 linked list\n",
        "\n",
        "class Node:\n",
        "    def __init__(self, data):\n",
        "        self.data  =data\n",
        "        self.next = None\n",
        "        pass\n",
        "\n",
        "class LinkedList:\n",
        "    def __init__(self):\n",
        "        self.head = None\n",
        "\n",
        "    def push(self, new_data):\n",
        "        new_node = Node(new_data)\n",
        "        new_node.next = self.head\n",
        "        self.head = new_node\n",
        "\n",
        "    def printList(self):\n",
        "        temp = self.head\n",
        "        while(temp):\n",
        "            print(temp.data)\n",
        "            temp =temp.next\n",
        "\n",
        "class Solution:\n",
        "    def addTwoNums(self, l1, l2):\n",
        "        d1 = ''\n",
        "        d2 = ''\n",
        "        while l1:\n",
        "            d1 += str(l1.data)\n",
        "            l1 = l1.next\n",
        "        while l2:\n",
        "            d2 += str(l2.data)\n",
        "            l2 = l2.next\n",
        "\n",
        "        #Reverse the digits and convert from str to int\n",
        "        d1 = int(d1[::-1])\n",
        "        d2 = int(d2[::-1])\n",
        "\n",
        "        #sum up the digit and convert int to str backk, and reverse\n",
        "        digits = str(d1 + d2)\n",
        "        print(digits)\n",
        "\n",
        "        head = Node(digits[0])\n",
        "        node =head\n",
        "        for i in range(1, len(digits)):\n",
        "            node.next = Node(digits[i])\n",
        "            node = node.next\n",
        "        return head\n",
        "\n",
        "\n",
        "llist = LinkedList()\n",
        "llist.push(5)\n",
        "llist.push(9)\n",
        "llist.push(5)\n",
        "# llist.printList()\n",
        "\n",
        "llist1 = LinkedList()\n",
        "llist1.push(7)\n",
        "llist1.push(7)\n",
        "llist1.push(15)\n",
        "# llist1.printList()\n",
        "\n",
        "\n",
        "sum_ll = Solution().addTwoNums(llist.head,llist1.head)\n",
        "temp = sum_ll\n",
        "while temp:\n",
        "    print(temp.data)\n",
        "    temp = temp.next\n",
        "\n",
        "\n"
      ],
      "metadata": {
        "id": "KW-qYuJX5w03",
        "colab": {
          "base_uri": "https://localhost:8080/"
        },
        "outputId": "40618c83-4a49-4055-e20f-7bf8c70bae51"
      },
      "execution_count": null,
      "outputs": [
        {
          "output_type": "stream",
          "name": "stdout",
          "text": [
            "8346\n",
            "8\n",
            "3\n",
            "4\n",
            "6\n"
          ]
        }
      ]
    },
    {
      "cell_type": "code",
      "source": [
        "# merge 2 linked list alternativetly\n",
        "\n",
        "class Node:\n",
        "    def __init__(self, data):\n",
        "        self.data  =data\n",
        "        self.next = None\n",
        "        pass\n",
        "\n",
        "class LinkedList:\n",
        "    def __init__(self):\n",
        "        self.head = None\n",
        "\n",
        "    def push(self, new_data):\n",
        "        new_node = Node(new_data)\n",
        "        new_node.next = self.head\n",
        "        self.head = new_node\n",
        "\n",
        "    def printList(self):\n",
        "        temp = self.head\n",
        "        while(temp):\n",
        "            print(temp.data)\n",
        "            temp =temp.next\n",
        "\n",
        "\n",
        "class Solution:\n",
        "    def merge_lists_alternate(self, p, q):\n",
        "        p_curr = p.head\n",
        "        q_curr = q.head\n",
        "        while p_curr != None and q_curr != None:\n",
        "            p_next = p_curr.next\n",
        "            q_next = q_curr.next\n",
        "\n",
        "            q_curr.next = p_next\n",
        "            p_curr.next = q_curr\n",
        "\n",
        "            p_curr = p_next\n",
        "            q_curr = q_next\n",
        "            q.head = q_curr\n",
        "\n",
        "\n",
        "llist = LinkedList()\n",
        "llist.push(5)\n",
        "llist.push(3)\n",
        "llist.push(1)\n",
        "# llist.printList()\n",
        "\n",
        "llist1 = LinkedList()\n",
        "llist1.push(6)\n",
        "llist1.push(4)\n",
        "llist1.push(2)\n",
        "\n",
        "Solution().merge_lists_alternate(llist, llist1)\n",
        "\n",
        "print(\"Modified linked list:\")\n",
        "llist.printList()"
      ],
      "metadata": {
        "colab": {
          "base_uri": "https://localhost:8080/"
        },
        "id": "SrrFwRoGecX5",
        "outputId": "1ddcddb3-9e55-4e2c-977e-b2185988ef69"
      },
      "execution_count": null,
      "outputs": [
        {
          "output_type": "stream",
          "name": "stdout",
          "text": [
            "Modified linked list:\n",
            "1\n",
            "2\n",
            "3\n",
            "4\n",
            "5\n",
            "6\n"
          ]
        }
      ]
    },
    {
      "cell_type": "code",
      "source": [
        "\"\"\" Reverse the linked list \"\"\"\n",
        "class Node:\n",
        "    def __init__(self, data):\n",
        "        self.data  =data\n",
        "        self.next = None\n",
        "        pass\n",
        "\n",
        "class LinkedList:\n",
        "    def __init__(self):\n",
        "        self.head = None\n",
        "\n",
        "    def push(self, new_data):\n",
        "        new_node = Node(new_data)\n",
        "        new_node.next = self.head\n",
        "        self.head = new_node\n",
        "\n",
        "    def reverse_ll(self):\n",
        "        prev = None\n",
        "        next = None\n",
        "        current = self.head\n",
        "        while current != None:\n",
        "            next = current.next\n",
        "            current.next = prev\n",
        "            prev = current\n",
        "            current = next\n",
        "        self.head = prev\n",
        "\n",
        "\n",
        "    def printList(self):\n",
        "        temp = self.head\n",
        "        while(temp):\n",
        "            print(temp.data)\n",
        "            temp =temp.next\n",
        "\n",
        "\n",
        "llist = LinkedList()\n",
        "llist.push(20)\n",
        "llist.push(4)\n",
        "llist.push(15)\n",
        "llist.push(85)\n",
        "\n",
        "print(\"Given Linked List\")\n",
        "llist.printList()\n",
        "llist.reverse_ll()\n",
        "print(\"Reversed linked list\")\n",
        "llist.printList()"
      ],
      "metadata": {
        "id": "Fv0i9Ie3splP",
        "outputId": "fe8b377f-092b-4535-a6a8-14d5bc1110b4",
        "colab": {
          "base_uri": "https://localhost:8080/"
        }
      },
      "execution_count": null,
      "outputs": [
        {
          "output_type": "stream",
          "name": "stdout",
          "text": [
            "Given Linked List\n",
            "85\n",
            "15\n",
            "4\n",
            "20\n",
            "Reversed linked list\n",
            "20\n",
            "4\n",
            "15\n",
            "85\n"
          ]
        }
      ]
    },
    {
      "cell_type": "code",
      "source": [
        "# Union and intersection of linked list\n",
        "\n",
        "class Node:\n",
        "    def __init__(self, data):\n",
        "        self.data  =data\n",
        "        self.next = None\n",
        "        pass\n",
        "\n",
        "class LinkedList:\n",
        "    def __init__(self):\n",
        "        self.head = None\n",
        "\n",
        "    def push(self, new_data):\n",
        "        new_node = Node(new_data)\n",
        "        new_node.next = self.head\n",
        "        self.head = new_node\n",
        "    def union_intersection(self, l1, l2):\n",
        "        union_set = set()\n",
        "        intersection_set = set()\n",
        "        temp1 = l1.head\n",
        "        temp2 = l2.head\n",
        "        while temp1:\n",
        "            if temp1.data in temp2:\n",
        "                print(temp1.data)\n",
        "\n",
        "    def printList(self):\n",
        "        temp = self.head\n",
        "        while(temp):\n",
        "            print(temp.data)\n",
        "            temp =temp.next\n",
        "\n",
        "def union_set(l1, l2):\n",
        "    hash_set = set()\n",
        "    intersection_set = set()\n",
        "    temp1 = l1\n",
        "    temp2 = l2\n",
        "    while temp1:\n",
        "        hash_set.add(temp1.data)\n",
        "        temp1 = temp1.next\n",
        "    while temp2:\n",
        "        if not hash_set.__contains__(temp2.data):\n",
        "            hash_set.add(temp2.data)\n",
        "        temp2 = temp2.next\n",
        "    print(hash_set, \"Union set\")\n",
        "\n",
        "def intersection_set(l1, l2):\n",
        "    intersection_set = set()\n",
        "    temp1 = l1\n",
        "    temp2 = l2\n",
        "    while temp1:\n",
        "        intersection_set.add(temp1.data)\n",
        "        temp1 = temp1.next\n",
        "    while temp2:\n",
        "        if intersection_set.__contains__(temp2.data):\n",
        "            intersection_set.add(temp2.data)\n",
        "        temp2 = temp2.next\n",
        "    print(intersection_set, \"Intersection set\")\n",
        "\n",
        "llist = LinkedList()\n",
        "llist.push(5)\n",
        "llist.push(9)\n",
        "llist.push(5)\n",
        "# llist.printList()\n",
        "\n",
        "llist1 = LinkedList()\n",
        "llist1.push(7)\n",
        "llist1.push(7)\n",
        "llist1.push(15)\n",
        "\n",
        "union_set(llist.head, llist1.head)\n",
        "intersection_set(llist.head, llist1.head)"
      ],
      "metadata": {
        "id": "vr_FFqnR_1gI",
        "colab": {
          "base_uri": "https://localhost:8080/"
        },
        "outputId": "1cff1d76-aa53-468d-f387-8603a105a0ce"
      },
      "execution_count": null,
      "outputs": [
        {
          "output_type": "stream",
          "name": "stdout",
          "text": [
            "{9, 7, 5, 15} Union set\n",
            "{9, 5} Intersection set\n"
          ]
        }
      ]
    },
    {
      "cell_type": "code",
      "source": [
        "#Detect loop in singly linked list\n",
        "\n",
        "class Node:\n",
        "    def __init__(self, data):\n",
        "        self.data  =data\n",
        "        self.next = None\n",
        "        pass\n",
        "\n",
        "class LinkedList:\n",
        "    def __init__(self):\n",
        "        self.head = None\n",
        "\n",
        "    def push(self, new_data):\n",
        "        new_node = Node(new_data)\n",
        "        new_node.next = self.head\n",
        "        self.head = new_node\n",
        "\n",
        "    def printList(self):\n",
        "        temp = self.head\n",
        "        while(temp):\n",
        "            print(temp.data)\n",
        "            temp =temp.next\n",
        "\n",
        "    def detect_loop(self):\n",
        "        slow = self.head\n",
        "        fast = self.head\n",
        "        while(slow and fast and fast.next):\n",
        "            slow = slow.next\n",
        "            fast = fast.next.next\n",
        "            if slow == fast:\n",
        "                return True\n",
        "        return False\n",
        "\n",
        "llist = LinkedList()\n",
        "llist.push(10)\n",
        "llist.push(4)\n",
        "llist.push(15)\n",
        "llist.push(20)\n",
        "llist.push(50)\n",
        "llist.printList()\n",
        "\n",
        "# Create a loop for testing\n",
        "llist.head.next.next.next.next.next = llist.head.next.next\n",
        "\n",
        "# llist.printList()\n",
        "\n",
        "result = llist.detect_loop()\n",
        "print(f\"Loop detected  {result}\")\n",
        "\n",
        "llist1 = LinkedList()\n",
        "llist1.push(10)\n",
        "llist1.push(4)\n",
        "llist1.push(15)\n",
        "llist1.push(20)\n",
        "llist1.push(50)\n",
        "llist1.printList()\n",
        "result = llist1.detect_loop()\n",
        "print(f\"Loop detected  {result}\")"
      ],
      "metadata": {
        "id": "ZwsSJYR7FhNT",
        "outputId": "1c9d814b-e488-46ae-9443-370f0d76b209",
        "colab": {
          "base_uri": "https://localhost:8080/"
        }
      },
      "execution_count": 2,
      "outputs": [
        {
          "output_type": "stream",
          "name": "stdout",
          "text": [
            "50\n",
            "20\n",
            "15\n",
            "4\n",
            "10\n",
            "Loop detected  True\n",
            "50\n",
            "20\n",
            "15\n",
            "4\n",
            "10\n",
            "Loop detected  False\n"
          ]
        }
      ]
    },
    {
      "cell_type": "code",
      "source": [
        ""
      ],
      "metadata": {
        "id": "I-GPjZOuU8Vu"
      },
      "execution_count": null,
      "outputs": []
    }
  ]
}