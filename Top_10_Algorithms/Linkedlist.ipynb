{
  "nbformat": 4,
  "nbformat_minor": 0,
  "metadata": {
    "colab": {
      "name": "Linkedlist.ipynb",
      "provenance": [],
      "collapsed_sections": [],
      "authorship_tag": "ABX9TyN3LNIHKW/YB+gzrAxNxQxh",
      "include_colab_link": true
    },
    "kernelspec": {
      "name": "python3",
      "display_name": "Python 3"
    },
    "language_info": {
      "name": "python"
    }
  },
  "cells": [
    {
      "cell_type": "markdown",
      "metadata": {
        "id": "view-in-github",
        "colab_type": "text"
      },
      "source": [
        "<a href=\"https://colab.research.google.com/github/2k177/DataStructure_Python/blob/master/Top_10_Algorithms/Linkedlist.ipynb\" target=\"_parent\"><img src=\"https://colab.research.google.com/assets/colab-badge.svg\" alt=\"Open In Colab\"/></a>"
      ]
    },
    {
      "cell_type": "code",
      "execution_count": null,
      "metadata": {
        "id": "uSbZcDXXla1L"
      },
      "outputs": [],
      "source": [
        ""
      ]
    },
    {
      "cell_type": "markdown",
      "source": [
        ""
      ],
      "metadata": {
        "id": "cAPry0yZlktB"
      }
    },
    {
      "cell_type": "markdown",
      "source": [
        "## Top 10 Linkedlist algorithms \n",
        "Sorce : https://www.geeksforgeeks.org/top-10-algorithms-in-interview-questions/#algo2 "
      ],
      "metadata": {
        "id": "Eu8BUX45loWK"
      }
    },
    {
      "cell_type": "code",
      "source": [
        ""
      ],
      "metadata": {
        "id": "qSxK1b8sl1MP"
      },
      "execution_count": null,
      "outputs": []
    },
    {
      "cell_type": "markdown",
      "source": [
        "### Insertion of a node in Linked List \n",
        "Given a linked list which is sorted, how will you insert in sorted way ?"
      ],
      "metadata": {
        "id": "pAqj1R03mBrY"
      }
    },
    {
      "cell_type": "code",
      "source": [
        "class Node:\n",
        "  def __init__(self, data):\n",
        "    self.data = data\n",
        "    self.next = None\n",
        "class LinkedList:\n",
        "  def __init__(self):\n",
        "    self.head = None\n",
        "  def sortedInsert(self, new_node):\n",
        "    # if the list is empty\n",
        "    if self.head is None:\n",
        "      new_node.next = self.head\n",
        "      self.head = new_node\n",
        "    elif self.head.data >= new_node.data:\n",
        "      new_node.next = self.head\n",
        "      self.head = new_node\n",
        "    else:\n",
        "      # Locate the node before the point of insertion\n",
        "      current = self.head\n",
        "      while(current.next is not None and\n",
        "                 current.next.data < new_node.data):\n",
        "                current = current.next\n",
        "      new_node.next = current.next\n",
        "      current.next = new_node\n",
        "  def printList(self):\n",
        "        temp = self.head\n",
        "        while(temp):\n",
        "            print(temp.data)\n",
        "            temp = temp.next\n",
        "llist = LinkedList()\n",
        "new_node = Node(5)\n",
        "llist.sortedInsert(new_node)\n",
        "new_node = Node(10)\n",
        "llist.sortedInsert(new_node)\n",
        "new_node = Node(7)\n",
        "llist.sortedInsert(new_node)\n",
        "new_node = Node(3)\n",
        "llist.sortedInsert(new_node)\n",
        "new_node = Node(1)\n",
        "llist.sortedInsert(new_node)\n",
        "new_node = Node(9)\n",
        "llist.sortedInsert(new_node)\n",
        "new_node = Node(0)\n",
        "llist.sortedInsert(new_node)\n",
        "print (\"Create Linked List\")\n",
        "llist.printList()"
      ],
      "metadata": {
        "colab": {
          "base_uri": "https://localhost:8080/"
        },
        "id": "r6J3R5HZmR-k",
        "outputId": "f8a0ad5a-3448-4f65-8c6c-587bd6b2693c"
      },
      "execution_count": 8,
      "outputs": [
        {
          "output_type": "stream",
          "name": "stdout",
          "text": [
            "Create Linked List\n",
            "0\n",
            "1\n",
            "3\n",
            "5\n",
            "7\n",
            "9\n",
            "10\n"
          ]
        }
      ]
    },
    {
      "cell_type": "code",
      "source": [
        ""
      ],
      "metadata": {
        "id": "GTXGRtEhtJ1G"
      },
      "execution_count": null,
      "outputs": []
    },
    {
      "cell_type": "code",
      "source": [
        ""
      ],
      "metadata": {
        "id": "MHFHVQQ7tMkz"
      },
      "execution_count": null,
      "outputs": []
    }
  ]
}