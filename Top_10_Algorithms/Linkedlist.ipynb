{
  "nbformat": 4,
  "nbformat_minor": 0,
  "metadata": {
    "colab": {
      "name": "Copy of Linkedlist.ipynb",
      "provenance": [],
      "collapsed_sections": [],
      "authorship_tag": "ABX9TyOZ75D/8PHswk2a1jlaTkSD",
      "include_colab_link": true
    },
    "kernelspec": {
      "name": "python3",
      "display_name": "Python 3"
    },
    "language_info": {
      "name": "python"
    }
  },
  "cells": [
    {
      "cell_type": "markdown",
      "metadata": {
        "id": "view-in-github",
        "colab_type": "text"
      },
      "source": [
        "<a href=\"https://colab.research.google.com/github/2k177/DataStructure_Python/blob/master/Top_10_Algorithms/Linkedlist.ipynb\" target=\"_parent\"><img src=\"https://colab.research.google.com/assets/colab-badge.svg\" alt=\"Open In Colab\"/></a>"
      ]
    },
    {
      "cell_type": "code",
      "execution_count": null,
      "metadata": {
        "id": "uSbZcDXXla1L"
      },
      "outputs": [],
      "source": [
        ""
      ]
    },
    {
      "cell_type": "markdown",
      "source": [
        ""
      ],
      "metadata": {
        "id": "cAPry0yZlktB"
      }
    },
    {
      "cell_type": "markdown",
      "source": [
        "## Top 10 Linkedlist algorithms \n",
        "Sorce : https://www.geeksforgeeks.org/top-10-algorithms-in-interview-questions/#algo2 "
      ],
      "metadata": {
        "id": "Eu8BUX45loWK"
      }
    },
    {
      "cell_type": "code",
      "source": [
        ""
      ],
      "metadata": {
        "id": "qSxK1b8sl1MP"
      },
      "execution_count": null,
      "outputs": []
    },
    {
      "cell_type": "markdown",
      "source": [
        "### Insertion of a node in Linked List \n",
        "Given a linked list which is sorted, how will you insert in sorted way ?"
      ],
      "metadata": {
        "id": "pAqj1R03mBrY"
      }
    },
    {
      "cell_type": "code",
      "source": [
        "class Node:\n",
        "  def __init__(self, data):\n",
        "    self.data = data\n",
        "    self.next = None\n",
        "class LinkedList:\n",
        "  def __init__(self):\n",
        "    self.head = None\n",
        "  def sortedInsert(self, new_node):\n",
        "    # if the list is empty\n",
        "    if self.head is None:\n",
        "      new_node.next = self.head\n",
        "      self.head = new_node\n",
        "    elif self.head.data >= new_node.data:\n",
        "      new_node.next = self.head\n",
        "      self.head = new_node\n",
        "    else:\n",
        "      # Locate the node before the point of insertion\n",
        "      current = self.head\n",
        "      while(current.next is not None and\n",
        "                 current.next.data < new_node.data):\n",
        "                current = current.next\n",
        "      new_node.next = current.next\n",
        "      current.next = new_node\n",
        "  def printList(self):\n",
        "        temp = self.head\n",
        "        while(temp):\n",
        "            print(temp.data)\n",
        "            temp = temp.next\n",
        "llist = LinkedList()\n",
        "new_node = Node(5)\n",
        "llist.sortedInsert(new_node)\n",
        "new_node = Node(10)\n",
        "llist.sortedInsert(new_node)\n",
        "new_node = Node(7)\n",
        "llist.sortedInsert(new_node)\n",
        "new_node = Node(3)\n",
        "llist.sortedInsert(new_node)\n",
        "new_node = Node(1)\n",
        "llist.sortedInsert(new_node)\n",
        "new_node = Node(9)\n",
        "llist.sortedInsert(new_node)\n",
        "new_node = Node(0)\n",
        "llist.sortedInsert(new_node)\n",
        "print (\"Create Linked List\")\n",
        "llist.printList()"
      ],
      "metadata": {
        "colab": {
          "base_uri": "https://localhost:8080/"
        },
        "id": "r6J3R5HZmR-k",
        "outputId": "b00ea4e0-6657-4f04-9812-a4a65b2dd90d"
      },
      "execution_count": null,
      "outputs": [
        {
          "output_type": "stream",
          "name": "stdout",
          "text": [
            "Create Linked List\n",
            "0\n",
            "1\n",
            "3\n",
            "5\n",
            "7\n",
            "9\n",
            "10\n"
          ]
        }
      ]
    },
    {
      "cell_type": "code",
      "source": [
        "class Node:\n",
        "  def __init__(self, data):\n",
        "    self.data = data\n",
        "    self.next = None\n",
        "\n",
        "def compareList(list1, list2):\n",
        "  while (list1.next and list2.next) and (list1.data == list2.data):\n",
        "    list1 = list1.next\n",
        "    list2 = list2.next\n",
        "  if(list1 and list2):\n",
        "      return 1 if list1.data > list2.data else -1\n",
        "\n",
        "  # If either of the two lists has reached end\n",
        "  if (list1 and not list2):\n",
        "      return 1\n",
        "\n",
        "  if (list2 and not list1):\n",
        "      return -1\n",
        "  return 0\n",
        "list1 = Node('D')\n",
        "list1.next = Node('e')\n",
        "list1.next.next = Node('e')\n",
        "list1.next.next.next = Node('p')\n",
        "list1.next.next.next.next = Node('s')\n",
        "list1.next.next.next.next.next = Node('b')\n",
        " \n",
        "list2 = Node('d')\n",
        "list2.next = Node('e')\n",
        "list2.next.next = Node('e')\n",
        "list2.next.next.next = Node('p')\n",
        "list2.next.next.next.next = Node('s')\n",
        "list2.next.next.next.next.next = Node('a') \n",
        "print (compareList(list1, list2))"
      ],
      "metadata": {
        "id": "Y_wEFWtE4asj",
        "outputId": "3ec294e1-91a6-44e7-a568-5b9e10514111",
        "colab": {
          "base_uri": "https://localhost:8080/"
        }
      },
      "execution_count": null,
      "outputs": [
        {
          "output_type": "stream",
          "name": "stdout",
          "text": [
            "-1\n"
          ]
        }
      ]
    },
    {
      "cell_type": "code",
      "source": [
        "# Add 2 linked list\n",
        "\n",
        "class Node:\n",
        "    def __init__(self, data):\n",
        "        self.data  =data\n",
        "        self.next = None\n",
        "        pass\n",
        "\n",
        "class LinkedList:\n",
        "    def __init__(self):\n",
        "        self.head = None\n",
        "\n",
        "    def push(self, new_data):\n",
        "        new_node = Node(new_data)\n",
        "        new_node.next = self.head\n",
        "        self.head = new_node\n",
        "\n",
        "    def printList(self):\n",
        "        temp = self.head\n",
        "        while(temp):\n",
        "            print(temp.data)\n",
        "            temp =temp.next\n",
        "\n",
        "class Solution:\n",
        "    def addTwoNums(self, l1, l2):\n",
        "        d1 = ''\n",
        "        d2 = ''\n",
        "        while l1:\n",
        "            d1 += str(l1.data)\n",
        "            l1 = l1.next\n",
        "        while l2:\n",
        "            d2 += str(l2.data)\n",
        "            l2 = l2.next\n",
        "\n",
        "        #Reverse the digits and convert from str to int\n",
        "        d1 = int(d1[::-1])\n",
        "        d2 = int(d2[::-1])\n",
        "\n",
        "        #sum up the digit and convert int to str backk, and reverse\n",
        "        digits = str(d1 + d2)\n",
        "        print(digits)\n",
        "\n",
        "        head = Node(digits[0])\n",
        "        node =head\n",
        "        for i in range(1, len(digits)):\n",
        "            node.next = Node(digits[i])\n",
        "            node = node.next\n",
        "        return head\n",
        "\n",
        "\n",
        "llist = LinkedList()\n",
        "llist.push(5)\n",
        "llist.push(9)\n",
        "llist.push(5)\n",
        "# llist.printList()\n",
        "\n",
        "llist1 = LinkedList()\n",
        "llist1.push(7)\n",
        "llist1.push(7)\n",
        "llist1.push(15)\n",
        "# llist1.printList()\n",
        "\n",
        "\n",
        "sum_ll = Solution().addTwoNums(llist.head,llist1.head)\n",
        "temp = sum_ll\n",
        "while temp:\n",
        "    print(temp.data)\n",
        "    temp = temp.next\n",
        "\n",
        "\n"
      ],
      "metadata": {
        "id": "KW-qYuJX5w03",
        "colab": {
          "base_uri": "https://localhost:8080/"
        },
        "outputId": "40618c83-4a49-4055-e20f-7bf8c70bae51"
      },
      "execution_count": 1,
      "outputs": [
        {
          "output_type": "stream",
          "name": "stdout",
          "text": [
            "8346\n",
            "8\n",
            "3\n",
            "4\n",
            "6\n"
          ]
        }
      ]
    },
    {
      "cell_type": "code",
      "source": [
        "# merge 2 linked list alternativetly\n",
        "\n",
        "class Node:\n",
        "    def __init__(self, data):\n",
        "        self.data  =data\n",
        "        self.next = None\n",
        "        pass\n",
        "\n",
        "class LinkedList:\n",
        "    def __init__(self):\n",
        "        self.head = None\n",
        "\n",
        "    def push(self, new_data):\n",
        "        new_node = Node(new_data)\n",
        "        new_node.next = self.head\n",
        "        self.head = new_node\n",
        "\n",
        "    def printList(self):\n",
        "        temp = self.head\n",
        "        while(temp):\n",
        "            print(temp.data)\n",
        "            temp =temp.next\n",
        "\n",
        "\n",
        "class Solution:\n",
        "    def merge_lists_alternate(self, p, q):\n",
        "        p_curr = p.head\n",
        "        q_curr = q.head\n",
        "        while p_curr != None and q_curr != None:\n",
        "            p_next = p_curr.next\n",
        "            q_next = q_curr.next\n",
        "\n",
        "            q_curr.next = p_next\n",
        "            p_curr.next = q_curr\n",
        "\n",
        "            p_curr = p_next\n",
        "            q_curr = q_next\n",
        "            q.head = q_curr\n",
        "\n",
        "\n",
        "llist = LinkedList()\n",
        "llist.push(5)\n",
        "llist.push(3)\n",
        "llist.push(1)\n",
        "# llist.printList()\n",
        "\n",
        "llist1 = LinkedList()\n",
        "llist1.push(6)\n",
        "llist1.push(4)\n",
        "llist1.push(2)\n",
        "\n",
        "Solution().merge_lists_alternate(llist, llist1)\n",
        "\n",
        "print(\"Modified linked list:\")\n",
        "llist.printList()"
      ],
      "metadata": {
        "colab": {
          "base_uri": "https://localhost:8080/"
        },
        "id": "SrrFwRoGecX5",
        "outputId": "1ddcddb3-9e55-4e2c-977e-b2185988ef69"
      },
      "execution_count": 2,
      "outputs": [
        {
          "output_type": "stream",
          "name": "stdout",
          "text": [
            "Modified linked list:\n",
            "1\n",
            "2\n",
            "3\n",
            "4\n",
            "5\n",
            "6\n"
          ]
        }
      ]
    },
    {
      "cell_type": "code",
      "source": [
        ""
      ],
      "metadata": {
        "id": "Fv0i9Ie3splP"
      },
      "execution_count": null,
      "outputs": []
    }
  ]
}