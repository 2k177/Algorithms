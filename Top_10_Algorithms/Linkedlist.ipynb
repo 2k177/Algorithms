{
  "nbformat": 4,
  "nbformat_minor": 0,
  "metadata": {
    "colab": {
      "name": "Copy of Linkedlist.ipynb",
      "provenance": [],
      "collapsed_sections": [],
      "authorship_tag": "ABX9TyPnv/Cz6ixEICDCa7k8mtZV",
      "include_colab_link": true
    },
    "kernelspec": {
      "name": "python3",
      "display_name": "Python 3"
    },
    "language_info": {
      "name": "python"
    }
  },
  "cells": [
    {
      "cell_type": "markdown",
      "metadata": {
        "id": "view-in-github",
        "colab_type": "text"
      },
      "source": [
        "<a href=\"https://colab.research.google.com/github/2k177/DataStructure_Python/blob/master/Top_10_Algorithms/Linkedlist.ipynb\" target=\"_parent\"><img src=\"https://colab.research.google.com/assets/colab-badge.svg\" alt=\"Open In Colab\"/></a>"
      ]
    },
    {
      "cell_type": "code",
      "execution_count": null,
      "metadata": {
        "id": "uSbZcDXXla1L"
      },
      "outputs": [],
      "source": [
        ""
      ]
    },
    {
      "cell_type": "markdown",
      "source": [
        ""
      ],
      "metadata": {
        "id": "cAPry0yZlktB"
      }
    },
    {
      "cell_type": "markdown",
      "source": [
        "## Top 10 Linkedlist algorithms \n",
        "Sorce : https://www.geeksforgeeks.org/top-10-algorithms-in-interview-questions/#algo2 "
      ],
      "metadata": {
        "id": "Eu8BUX45loWK"
      }
    },
    {
      "cell_type": "code",
      "source": [
        ""
      ],
      "metadata": {
        "id": "qSxK1b8sl1MP"
      },
      "execution_count": null,
      "outputs": []
    },
    {
      "cell_type": "markdown",
      "source": [
        "### Insertion of a node in Linked List \n",
        "Given a linked list which is sorted, how will you insert in sorted way ?"
      ],
      "metadata": {
        "id": "pAqj1R03mBrY"
      }
    },
    {
      "cell_type": "code",
      "source": [
        "class Node:\n",
        "  def __init__(self, data):\n",
        "    self.data = data\n",
        "    self.next = None\n",
        "class LinkedList:\n",
        "  def __init__(self):\n",
        "    self.head = None\n",
        "  def sortedInsert(self, new_node):\n",
        "    # if the list is empty\n",
        "    if self.head is None:\n",
        "      new_node.next = self.head\n",
        "      self.head = new_node\n",
        "    elif self.head.data >= new_node.data:\n",
        "      new_node.next = self.head\n",
        "      self.head = new_node\n",
        "    else:\n",
        "      # Locate the node before the point of insertion\n",
        "      current = self.head\n",
        "      while(current.next is not None and\n",
        "                 current.next.data < new_node.data):\n",
        "                current = current.next\n",
        "      new_node.next = current.next\n",
        "      current.next = new_node\n",
        "  def printList(self):\n",
        "        temp = self.head\n",
        "        while(temp):\n",
        "            print(temp.data)\n",
        "            temp = temp.next\n",
        "llist = LinkedList()\n",
        "new_node = Node(5)\n",
        "llist.sortedInsert(new_node)\n",
        "new_node = Node(10)\n",
        "llist.sortedInsert(new_node)\n",
        "new_node = Node(7)\n",
        "llist.sortedInsert(new_node)\n",
        "new_node = Node(3)\n",
        "llist.sortedInsert(new_node)\n",
        "new_node = Node(1)\n",
        "llist.sortedInsert(new_node)\n",
        "new_node = Node(9)\n",
        "llist.sortedInsert(new_node)\n",
        "new_node = Node(0)\n",
        "llist.sortedInsert(new_node)\n",
        "print (\"Create Linked List\")\n",
        "llist.printList()"
      ],
      "metadata": {
        "colab": {
          "base_uri": "https://localhost:8080/"
        },
        "id": "r6J3R5HZmR-k",
        "outputId": "b00ea4e0-6657-4f04-9812-a4a65b2dd90d"
      },
      "execution_count": 1,
      "outputs": [
        {
          "output_type": "stream",
          "name": "stdout",
          "text": [
            "Create Linked List\n",
            "0\n",
            "1\n",
            "3\n",
            "5\n",
            "7\n",
            "9\n",
            "10\n"
          ]
        }
      ]
    },
    {
      "cell_type": "code",
      "source": [
        "class Node:\n",
        "  def __init__(self, data):\n",
        "    self.data = data\n",
        "    self.next = None\n",
        "\n",
        "def compareList(list1, list2):\n",
        "  while (list1.next and list2.next) and (list1.data == list2.data):\n",
        "    list1 = list1.next\n",
        "    list2 = list2.next\n",
        "  if(list1 and list2):\n",
        "      return 1 if list1.data > list2.data else -1\n",
        "\n",
        "  # If either of the two lists has reached end\n",
        "  if (list1 and not list2):\n",
        "      return 1\n",
        "\n",
        "  if (list2 and not list1):\n",
        "      return -1\n",
        "  return 0\n",
        "list1 = Node('D')\n",
        "list1.next = Node('e')\n",
        "list1.next.next = Node('e')\n",
        "list1.next.next.next = Node('p')\n",
        "list1.next.next.next.next = Node('s')\n",
        "list1.next.next.next.next.next = Node('b')\n",
        " \n",
        "list2 = Node('d')\n",
        "list2.next = Node('e')\n",
        "list2.next.next = Node('e')\n",
        "list2.next.next.next = Node('p')\n",
        "list2.next.next.next.next = Node('s')\n",
        "list2.next.next.next.next.next = Node('a') \n",
        "print (compareList(list1, list2))"
      ],
      "metadata": {
        "id": "Y_wEFWtE4asj",
        "outputId": "3ec294e1-91a6-44e7-a568-5b9e10514111",
        "colab": {
          "base_uri": "https://localhost:8080/"
        }
      },
      "execution_count": 5,
      "outputs": [
        {
          "output_type": "stream",
          "name": "stdout",
          "text": [
            "-1\n"
          ]
        }
      ]
    },
    {
      "cell_type": "code",
      "source": [
        ""
      ],
      "metadata": {
        "id": "KW-qYuJX5w03"
      },
      "execution_count": null,
      "outputs": []
    }
  ]
}