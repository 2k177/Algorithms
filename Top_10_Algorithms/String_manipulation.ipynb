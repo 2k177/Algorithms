{
  "nbformat": 4,
  "nbformat_minor": 0,
  "metadata": {
    "colab": {
      "name": "String manipulation.ipynb",
      "provenance": [],
      "authorship_tag": "ABX9TyOSLSvrWn5vvVYXBe8NbYRs",
      "include_colab_link": true
    },
    "kernelspec": {
      "name": "python3",
      "display_name": "Python 3"
    },
    "language_info": {
      "name": "python"
    }
  },
  "cells": [
    {
      "cell_type": "markdown",
      "metadata": {
        "id": "view-in-github",
        "colab_type": "text"
      },
      "source": [
        "<a href=\"https://colab.research.google.com/github/2k177/DataStructure_Python/blob/master/Top_10_Algorithms/String_manipulation.ipynb\" target=\"_parent\"><img src=\"https://colab.research.google.com/assets/colab-badge.svg\" alt=\"Open In Colab\"/></a>"
      ]
    },
    {
      "cell_type": "code",
      "execution_count": 1,
      "metadata": {
        "colab": {
          "base_uri": "https://localhost:8080/"
        },
        "id": "4b9185jfG32c",
        "outputId": "21d5137f-f1bf-4fe5-ecbf-c9b4204a4d82"
      },
      "outputs": [
        {
          "output_type": "stream",
          "name": "stdout",
          "text": [
            "cb$a\n"
          ]
        }
      ],
      "source": [
        "#Reverse the string with spl character being intact\n",
        "\n",
        "def reserve_str(str1, l, r):\n",
        "    str1 = list(str1)\n",
        "    while l<r:\n",
        "        if not str1[l].isalpha():\n",
        "            l += 1\n",
        "        elif not str1[r].isalpha():\n",
        "            r -= 1\n",
        "        else:\n",
        "            str1[l], str1[r] = str1[r], str1[l]\n",
        "            l += 1\n",
        "            r -= 1\n",
        "    return \"\".join(str1)\n",
        "str1 = \"ab$c\"\n",
        "print(reserve_str(str1, 0, len(str1)-1))"
      ]
    },
    {
      "cell_type": "code",
      "source": [
        ""
      ],
      "metadata": {
        "id": "97eM960HG63F"
      },
      "execution_count": null,
      "outputs": []
    }
  ]
}