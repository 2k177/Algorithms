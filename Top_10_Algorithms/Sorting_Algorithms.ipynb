{
  "nbformat": 4,
  "nbformat_minor": 0,
  "metadata": {
    "colab": {
      "name": "Sorting Algorithms.ipynb",
      "provenance": [],
      "authorship_tag": "ABX9TyOLmfIa9+k0DxHXXqT4vuBS",
      "include_colab_link": true
    },
    "kernelspec": {
      "name": "python3",
      "display_name": "Python 3"
    },
    "language_info": {
      "name": "python"
    }
  },
  "cells": [
    {
      "cell_type": "markdown",
      "metadata": {
        "id": "view-in-github",
        "colab_type": "text"
      },
      "source": [
        "<a href=\"https://colab.research.google.com/github/2k177/DataStructure_Python/blob/master/Top_10_Algorithms/Sorting_Algorithms.ipynb\" target=\"_parent\"><img src=\"https://colab.research.google.com/assets/colab-badge.svg\" alt=\"Open In Colab\"/></a>"
      ]
    },
    {
      "cell_type": "code",
      "execution_count": null,
      "metadata": {
        "colab": {
          "base_uri": "https://localhost:8080/"
        },
        "id": "eqp0D9hbgxQu",
        "outputId": "c2964334-90b7-411c-f198-006e01bed628"
      },
      "outputs": [
        {
          "output_type": "stream",
          "name": "stdout",
          "text": [
            "[3, 3, 4, 5, 9, 10, 12]\n"
          ]
        }
      ],
      "source": [
        "# merge sort\n",
        "def merge_sort(arr):\n",
        "    if len(arr) > 1:\n",
        "        left_arr = arr[:len(arr)//2]\n",
        "        right_arr = arr[len(arr)//2:]\n",
        "        #Divide the array\n",
        "        merge_sort(left_arr)\n",
        "        merge_sort(right_arr)\n",
        "\n",
        "        #Sort and Merge\n",
        "        i = 0\n",
        "        j = 0\n",
        "        k = 0\n",
        "        while i< len(left_arr) and j < len(right_arr):\n",
        "            if left_arr[i] < right_arr[j]:\n",
        "                arr[k] = left_arr[i]\n",
        "                i+=1\n",
        "            else:\n",
        "                arr[k] = right_arr[j]\n",
        "                j+=1\n",
        "            k+=1\n",
        "        while i < len(left_arr):\n",
        "            arr[k] = left_arr[i]\n",
        "            i+=1\n",
        "            k+=1\n",
        "        while j < len(right_arr):\n",
        "            arr[k] = right_arr[j]\n",
        "            j+=1\n",
        "            k+=1\n",
        "arr_test = [9,4,3,10,12, 3, 5]\n",
        "merge_sort(arr_test)\n",
        "print(arr_test)"
      ]
    },
    {
      "cell_type": "code",
      "source": [
        "# Binary search\n",
        "arr = [10, 20, 30, 40, 50]\n",
        "def search_element(arr,l, r, search):\n",
        "    if l<=r:\n",
        "        mid = l + (r - l) // 2\n",
        "\n",
        "        if search < arr[mid]:\n",
        "            return search_element(arr, l, mid-1, search)\n",
        "        elif search > arr[mid]:\n",
        "            return search_element(arr,mid+1, r, search)\n",
        "        else:\n",
        "            return mid\n",
        "print(search_element(arr,0, len(arr), 30))"
      ],
      "metadata": {
        "id": "P5U32dGdSLUN",
        "outputId": "7e77e88a-c0e4-4340-da51-489d3bbf452b",
        "colab": {
          "base_uri": "https://localhost:8080/"
        }
      },
      "execution_count": null,
      "outputs": [
        {
          "output_type": "stream",
          "name": "stdout",
          "text": [
            "2\n"
          ]
        }
      ]
    },
    {
      "cell_type": "code",
      "source": [
        "#bubble sort\n",
        "# Time Complexity: O(N2)\n",
        "# Auxiliary Space: O(1)\n",
        "\n",
        "def bubble_sort(arr):\n",
        "    n = len(arr)\n",
        "    for i in range(n):\n",
        "        for j in range(0,n-i-1):\n",
        "          # last i elements will be sorted \n",
        "            if arr[j] > arr[j+1]:\n",
        "                arr[j], arr[j+1] = arr[j+1], arr[j]\n",
        "    return arr\n",
        "# input_arr = [5, 1, 4, 2, 8]\n",
        "# print(bubble_sort(input_arr))\n",
        "input_arr = [9, 8, 7, 2, 9]\n",
        "print(bubble_sort(input_arr))"
      ],
      "metadata": {
        "id": "VImnGqooSQwF",
        "outputId": "978e13e9-fd2b-4bda-9428-5d6de7560d54",
        "colab": {
          "base_uri": "https://localhost:8080/"
        }
      },
      "execution_count": 3,
      "outputs": [
        {
          "output_type": "stream",
          "name": "stdout",
          "text": [
            "[2, 7, 8, 9, 9]\n"
          ]
        }
      ]
    },
    {
      "cell_type": "code",
      "source": [
        ""
      ],
      "metadata": {
        "id": "hig5IcAJ-5dn"
      },
      "execution_count": null,
      "outputs": []
    }
  ]
}