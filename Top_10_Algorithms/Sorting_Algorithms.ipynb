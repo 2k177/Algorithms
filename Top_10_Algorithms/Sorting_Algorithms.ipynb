{
  "nbformat": 4,
  "nbformat_minor": 0,
  "metadata": {
    "colab": {
      "name": "Sorting Algorithms.ipynb",
      "provenance": [],
      "authorship_tag": "ABX9TyMIbEhAZ/FtxUBcjRMdUNw+",
      "include_colab_link": true
    },
    "kernelspec": {
      "name": "python3",
      "display_name": "Python 3"
    },
    "language_info": {
      "name": "python"
    }
  },
  "cells": [
    {
      "cell_type": "markdown",
      "metadata": {
        "id": "view-in-github",
        "colab_type": "text"
      },
      "source": [
        "<a href=\"https://colab.research.google.com/github/2k177/DataStructure_Python/blob/master/Top_10_Algorithms/Sorting_Algorithms.ipynb\" target=\"_parent\"><img src=\"https://colab.research.google.com/assets/colab-badge.svg\" alt=\"Open In Colab\"/></a>"
      ]
    },
    {
      "cell_type": "code",
      "execution_count": 1,
      "metadata": {
        "colab": {
          "base_uri": "https://localhost:8080/"
        },
        "id": "eqp0D9hbgxQu",
        "outputId": "c2964334-90b7-411c-f198-006e01bed628"
      },
      "outputs": [
        {
          "output_type": "stream",
          "name": "stdout",
          "text": [
            "[3, 3, 4, 5, 9, 10, 12]\n"
          ]
        }
      ],
      "source": [
        "# merge sort\n",
        "def merge_sort(arr):\n",
        "    if len(arr) > 1:\n",
        "        left_arr = arr[:len(arr)//2]\n",
        "        right_arr = arr[len(arr)//2:]\n",
        "        #Divide the array\n",
        "        merge_sort(left_arr)\n",
        "        merge_sort(right_arr)\n",
        "\n",
        "        #Sort and Merge\n",
        "        i = 0\n",
        "        j = 0\n",
        "        k = 0\n",
        "        while i< len(left_arr) and j < len(right_arr):\n",
        "            if left_arr[i] < right_arr[j]:\n",
        "                arr[k] = left_arr[i]\n",
        "                i+=1\n",
        "            else:\n",
        "                arr[k] = right_arr[j]\n",
        "                j+=1\n",
        "            k+=1\n",
        "        while i < len(left_arr):\n",
        "            arr[k] = left_arr[i]\n",
        "            i+=1\n",
        "            k+=1\n",
        "        while j < len(right_arr):\n",
        "            arr[k] = right_arr[j]\n",
        "            j+=1\n",
        "            k+=1\n",
        "arr_test = [9,4,3,10,12, 3, 5]\n",
        "merge_sort(arr_test)\n",
        "print(arr_test)"
      ]
    }
  ]
}